{
 "cells": [
  {
   "cell_type": "markdown",
   "id": "3b3f55ce-61b7-4bc4-be33-72f7dd0aca55",
   "metadata": {},
   "source": [
    "# DEPA - Final Project \n",
    "## Team 2: Yilin Gong, Yulin Li, Songyao Hou, William DeForest\n",
    "### Retrieving Player Stats Data from the 'nba_api' API\n",
    "### nba_api is an API Client for www.nba.com. This package intends to make the APIs of NBA.com easily accessible and provide extensive documentation about them.\n",
    "### https://github.com/swar/nba_api"
   ]
  },
  {
   "cell_type": "code",
   "execution_count": 1,
   "id": "afa6c0b6-3081-416e-b626-7b5a116ef52b",
   "metadata": {
    "tags": []
   },
   "outputs": [
    {
     "name": "stdout",
     "output_type": "stream",
     "text": [
      "Collecting nba_api\n",
      "  Obtaining dependency information for nba_api from https://files.pythonhosted.org/packages/ea/c3/28b53c45924c8a6e63c6d0b035a5ee2db49659c22e2600b0292c94340276/nba_api-1.4.0-py3-none-any.whl.metadata\n",
      "  Downloading nba_api-1.4.0-py3-none-any.whl.metadata (5.6 kB)\n",
      "Requirement already satisfied: certifi<2024.0.0,>=2023.7.22 in c:\\users\\wdd72\\anaconda3\\lib\\site-packages (from nba_api) (2023.7.22)\n",
      "Requirement already satisfied: numpy<2.0.0,>=1.22.2 in c:\\users\\wdd72\\anaconda3\\lib\\site-packages (from nba_api) (1.24.3)\n",
      "Requirement already satisfied: requests<3.0,>=2.31 in c:\\users\\wdd72\\anaconda3\\lib\\site-packages (from nba_api) (2.31.0)\n",
      "Requirement already satisfied: charset-normalizer<4,>=2 in c:\\users\\wdd72\\anaconda3\\lib\\site-packages (from requests<3.0,>=2.31->nba_api) (2.0.4)\n",
      "Requirement already satisfied: idna<4,>=2.5 in c:\\users\\wdd72\\anaconda3\\lib\\site-packages (from requests<3.0,>=2.31->nba_api) (3.4)\n",
      "Requirement already satisfied: urllib3<3,>=1.21.1 in c:\\users\\wdd72\\anaconda3\\lib\\site-packages (from requests<3.0,>=2.31->nba_api) (1.26.16)\n",
      "Downloading nba_api-1.4.0-py3-none-any.whl (261 kB)\n",
      "   ---------------------------------------- 0.0/261.7 kB ? eta -:--:--\n",
      "   --------------------- ------------------ 143.4/261.7 kB 4.3 MB/s eta 0:00:01\n",
      "   ---------------------------------------- 261.7/261.7 kB 4.1 MB/s eta 0:00:00\n",
      "Installing collected packages: nba_api\n",
      "Successfully installed nba_api-1.4.0\n",
      "Note: you may need to restart the kernel to use updated packages.\n"
     ]
    },
    {
     "name": "stderr",
     "output_type": "stream",
     "text": [
      "WARNING: Retrying (Retry(total=4, connect=None, read=None, redirect=None, status=None)) after connection broken by 'ProtocolError('Connection aborted.', ConnectionResetError(10054, 'An existing connection was forcibly closed by the remote host', None, 10054, None))': /simple/nba-api/\n"
     ]
    }
   ],
   "source": [
    "#pip install nba_api"
   ]
  },
  {
   "cell_type": "code",
   "execution_count": 1,
   "id": "54e11c27-a6fe-4f66-bca1-523ebc18de0c",
   "metadata": {
    "tags": []
   },
   "outputs": [],
   "source": [
    "import requests\n",
    "import pandas as pd\n",
    "import numpy as np\n",
    "import csv"
   ]
  },
  {
   "cell_type": "code",
   "execution_count": 2,
   "id": "4a2ffbfc-30be-4d74-bd27-9628d36ee8ca",
   "metadata": {
    "tags": []
   },
   "outputs": [
    {
     "name": "stdout",
     "output_type": "stream",
     "text": [
      "Number of teams fetched: 30\n"
     ]
    },
    {
     "data": {
      "text/plain": [
       "[{'id': 1610612737,\n",
       "  'full_name': 'Atlanta Hawks',\n",
       "  'abbreviation': 'ATL',\n",
       "  'nickname': 'Hawks',\n",
       "  'city': 'Atlanta',\n",
       "  'state': 'Georgia',\n",
       "  'year_founded': 1949},\n",
       " {'id': 1610612738,\n",
       "  'full_name': 'Boston Celtics',\n",
       "  'abbreviation': 'BOS',\n",
       "  'nickname': 'Celtics',\n",
       "  'city': 'Boston',\n",
       "  'state': 'Massachusetts',\n",
       "  'year_founded': 1946},\n",
       " {'id': 1610612739,\n",
       "  'full_name': 'Cleveland Cavaliers',\n",
       "  'abbreviation': 'CLE',\n",
       "  'nickname': 'Cavaliers',\n",
       "  'city': 'Cleveland',\n",
       "  'state': 'Ohio',\n",
       "  'year_founded': 1970}]"
      ]
     },
     "execution_count": 2,
     "metadata": {},
     "output_type": "execute_result"
    }
   ],
   "source": [
    "# Getting Teams\n",
    "\n",
    "from nba_api.stats.static import teams\n",
    "\n",
    "# get_teams returns a list of 30 dictionaries, each an NBA team.\n",
    "nba_teams = teams.get_teams()\n",
    "print(\"Number of teams fetched: {}\".format(len(nba_teams)))\n",
    "nba_teams[:3]"
   ]
  },
  {
   "cell_type": "code",
   "execution_count": 3,
   "id": "4f01c0e2-0afd-485e-bc71-cb3db18d0c9b",
   "metadata": {
    "tags": []
   },
   "outputs": [],
   "source": [
    "# Export nba_teams to csv\n",
    "\n",
    "nba_teams_df = pd.DataFrame(nba_teams)\n",
    "\n",
    "nba_teams_df.to_csv('nba_teams.csv', index=False)"
   ]
  },
  {
   "cell_type": "code",
   "execution_count": 3,
   "id": "893984e5-715d-409c-baf3-455b9fba2dee",
   "metadata": {
    "tags": []
   },
   "outputs": [
    {
     "name": "stdout",
     "output_type": "stream",
     "text": [
      "Number of players fetched: 4900\n"
     ]
    },
    {
     "data": {
      "text/plain": [
       "[{'id': 76001,\n",
       "  'full_name': 'Alaa Abdelnaby',\n",
       "  'first_name': 'Alaa',\n",
       "  'last_name': 'Abdelnaby',\n",
       "  'is_active': False},\n",
       " {'id': 76002,\n",
       "  'full_name': 'Zaid Abdul-Aziz',\n",
       "  'first_name': 'Zaid',\n",
       "  'last_name': 'Abdul-Aziz',\n",
       "  'is_active': False},\n",
       " {'id': 76003,\n",
       "  'full_name': 'Kareem Abdul-Jabbar',\n",
       "  'first_name': 'Kareem',\n",
       "  'last_name': 'Abdul-Jabbar',\n",
       "  'is_active': False},\n",
       " {'id': 51,\n",
       "  'full_name': 'Mahmoud Abdul-Rauf',\n",
       "  'first_name': 'Mahmoud',\n",
       "  'last_name': 'Abdul-Rauf',\n",
       "  'is_active': False},\n",
       " {'id': 1505,\n",
       "  'full_name': 'Tariq Abdul-Wahad',\n",
       "  'first_name': 'Tariq',\n",
       "  'last_name': 'Abdul-Wahad',\n",
       "  'is_active': False}]"
      ]
     },
     "execution_count": 3,
     "metadata": {},
     "output_type": "execute_result"
    }
   ],
   "source": [
    "# Getting players\n",
    "\n",
    "from nba_api.stats.static import players\n",
    "\n",
    "# get_players returns a list of dictionaries, each representing a player.\n",
    "nba_players = players.get_players()\n",
    "print(\"Number of players fetched: {}\".format(len(nba_players)))\n",
    "nba_players[:5]"
   ]
  },
  {
   "cell_type": "code",
   "execution_count": 18,
   "id": "28a3ec6b-a8e9-40ce-acbb-8a53e1f31886",
   "metadata": {
    "tags": []
   },
   "outputs": [],
   "source": [
    "# Export nba_players to csv\n",
    "\n",
    "nba_players_df = pd.DataFrame(nba_players)\n",
    "\n",
    "nba_players_df.to_csv('nba_players.csv', index=False)"
   ]
  },
  {
   "cell_type": "code",
   "execution_count": 6,
   "id": "18446e31-35d1-46da-a033-5c23ae3aa30c",
   "metadata": {
    "tags": []
   },
   "outputs": [
    {
     "name": "stdout",
     "output_type": "stream",
     "text": [
      "[76001, 76002, 76003, 51, 1505]\n"
     ]
    }
   ],
   "source": [
    "# get list of player id's\n",
    "\n",
    "values_of_first_keys = [d[next(iter(d))] for d in nba_players]\n",
    "\n",
    "print(values_of_first_keys[0:5])"
   ]
  },
  {
   "cell_type": "code",
   "execution_count": 75,
   "id": "b399d1f4-bd3e-43be-921e-e8b63da341dd",
   "metadata": {
    "tags": []
   },
   "outputs": [],
   "source": [
    "career_stats = pd.DataFrame(columns=['PLAYER_ID', 'LEAGUE_ID', 'Team_ID', 'GP', 'GS', 'MIN', 'FGM', 'FGA', 'FG_PCT', 'FG3M', 'FG3A', 'FG3_PCT', 'FTM', 'FTA', 'FT_PCT', 'OREB', 'DREB', 'REB', 'AST', 'STL', 'BLK', 'TOV', 'PF', 'PTS'])\n",
    "\n",
    "count = 0\n",
    "data_frames_to_concat = []\n",
    "\n",
    "for player_id in values_of_first_keys:\n",
    "    career = playercareerstats.PlayerCareerStats(player_id, timeout=100)\n",
    "    new_rows = career.get_data_frames()[0]\n",
    "    data_frames_to_concat.append(new_rows)\n",
    "    \n",
    "    count += 1\n",
    "    if count >= 3:\n",
    "        break\n",
    "\n",
    "# Concatenate all DataFrames outside the loop\n",
    "career_stats = pd.concat(data_frames_to_concat, ignore_index=True)"
   ]
  },
  {
   "cell_type": "code",
   "execution_count": 76,
   "id": "6ac9e415-e359-4568-9d87-f6422e350e54",
   "metadata": {
    "tags": []
   },
   "outputs": [
    {
     "name": "stdout",
     "output_type": "stream",
     "text": [
      "    PLAYER_ID SEASON_ID LEAGUE_ID     TEAM_ID TEAM_ABBREVIATION  PLAYER_AGE  \\\n",
      "0       76001   1990-91        00  1610612757               POR        23.0   \n",
      "1       76001   1991-92        00  1610612757               POR        24.0   \n",
      "2       76001   1992-93        00  1610612749               MIL        25.0   \n",
      "3       76001   1992-93        00  1610612738               BOS        25.0   \n",
      "4       76001   1992-93        00           0               TOT        25.0   \n",
      "5       76001   1993-94        00  1610612738               BOS        26.0   \n",
      "6       76001   1994-95        00  1610612758               SAC        27.0   \n",
      "7       76001   1994-95        00  1610612755               PHL        27.0   \n",
      "8       76001   1994-95        00           0               TOT        27.0   \n",
      "9       76002   1968-69        00  1610612749               MIL        23.0   \n",
      "10      76002   1968-69        00  1610612758               CIN        23.0   \n",
      "11      76002   1968-69        00           0               TOT        23.0   \n",
      "12      76002   1969-70        00  1610612749               MIL        24.0   \n",
      "13      76002   1970-71        00  1610612760               SEA        25.0   \n",
      "14      76002   1971-72        00  1610612760               SEA        26.0   \n",
      "15      76002   1972-73        00  1610612745               HOU        27.0   \n",
      "16      76002   1973-74        00  1610612745               HOU        28.0   \n",
      "17      76002   1974-75        00  1610612745               HOU        29.0   \n",
      "18      76002   1975-76        00  1610612760               SEA        30.0   \n",
      "19      76002   1976-77        00  1610612746               BUF        31.0   \n",
      "20      76002   1977-78        00  1610612745               HOU        32.0   \n",
      "21      76002   1977-78        00  1610612738               BOS        32.0   \n",
      "22      76002   1977-78        00           0               TOT        32.0   \n",
      "23      76003   1969-70        00  1610612749               MIL        23.0   \n",
      "24      76003   1970-71        00  1610612749               MIL        24.0   \n",
      "25      76003   1971-72        00  1610612749               MIL        25.0   \n",
      "26      76003   1972-73        00  1610612749               MIL        26.0   \n",
      "27      76003   1973-74        00  1610612749               MIL        27.0   \n",
      "28      76003   1974-75        00  1610612749               MIL        28.0   \n",
      "29      76003   1975-76        00  1610612747               LAL        29.0   \n",
      "30      76003   1976-77        00  1610612747               LAL        30.0   \n",
      "31      76003   1977-78        00  1610612747               LAL        31.0   \n",
      "32      76003   1978-79        00  1610612747               LAL        32.0   \n",
      "33      76003   1979-80        00  1610612747               LAL        33.0   \n",
      "34      76003   1980-81        00  1610612747               LAL        34.0   \n",
      "35      76003   1981-82        00  1610612747               LAL        35.0   \n",
      "36      76003   1982-83        00  1610612747               LAL        36.0   \n",
      "37      76003   1983-84        00  1610612747               LAL        37.0   \n",
      "38      76003   1984-85        00  1610612747               LAL        38.0   \n",
      "39      76003   1985-86        00  1610612747               LAL        39.0   \n",
      "40      76003   1986-87        00  1610612747               LAL        40.0   \n",
      "41      76003   1987-88        00  1610612747               LAL        41.0   \n",
      "42      76003   1988-89        00  1610612747               LAL        42.0   \n",
      "\n",
      "    GP    GS     MIN   FGM  ...  FT_PCT   OREB    DREB   REB  AST    STL  \\\n",
      "0   43     0   290.0    55  ...   0.568   27.0    62.0    89   12    4.0   \n",
      "1   71     1   934.0   178  ...   0.752   81.0   179.0   260   30   25.0   \n",
      "2   12     0   159.0    26  ...   0.750   12.0    25.0    37   10    6.0   \n",
      "3   63    52  1152.0   219  ...   0.760  114.0   186.0   300   17   19.0   \n",
      "4   75    52  1311.0   245  ...   0.759  126.0   211.0   337   27   25.0   \n",
      "5   13     0   159.0    24  ...   0.640   12.0    34.0    46    3    2.0   \n",
      "6   51     0   476.0   117  ...   0.571   34.0    72.0   106   13   15.0   \n",
      "7    3     0    30.0     1  ...   0.000    3.0     5.0     8    0    0.0   \n",
      "8   54     0   506.0   118  ...   0.571   37.0    77.0   114   13   15.0   \n",
      "9   29  None   837.0   126  ...   0.642    NaN     NaN   378   33    NaN   \n",
      "10  20  None   108.0    18  ...   0.286    NaN     NaN    31    4    NaN   \n",
      "11  49  None   945.0   144  ...   0.619    NaN     NaN   409   37    NaN   \n",
      "12  80  None  1637.0   237  ...   0.643    NaN     NaN   603   62    NaN   \n",
      "13  61  None  1276.0   263  ...   0.739    NaN     NaN   468   42    NaN   \n",
      "14  58  None  1780.0   322  ...   0.720    NaN     NaN   654  124    NaN   \n",
      "15  48  None   900.0   149  ...   0.735    NaN     NaN   304   53    NaN   \n",
      "16  79  None  2459.0   336  ...   0.804  259.0   664.0   923  166   80.0   \n",
      "17  65  None  1450.0   235  ...   0.783  154.0   334.0   488   84   37.0   \n",
      "18  27  None   223.0    35  ...   0.552   30.0    46.0    76   16    8.0   \n",
      "19  22  None   195.0    25  ...   0.767   41.0    49.0    90    7    3.0   \n",
      "20  14  None   134.0    20  ...   0.750   13.0    22.0    35    7    2.0   \n",
      "21   2  None    24.0     3  ...   0.667    6.0     9.0    15    3    1.0   \n",
      "22  16  None   158.0    23  ...   0.739   19.0    31.0    50   10    3.0   \n",
      "23  82     0  3534.0   938  ...   0.653    NaN     NaN  1190  337    NaN   \n",
      "24  82    82  3288.0  1063  ...   0.690    NaN     NaN  1311  272    NaN   \n",
      "25  81    81  3583.0  1159  ...   0.689    NaN     NaN  1346  370    NaN   \n",
      "26  76    76  3254.0   982  ...   0.713    NaN     NaN  1224  379    NaN   \n",
      "27  81    81  3548.0   948  ...   0.702  287.0   891.0  1178  386  112.0   \n",
      "28  65    64  2747.0   812  ...   0.763  194.0   718.0   912  264   65.0   \n",
      "29  82    82  3379.0   914  ...   0.703  272.0  1111.0  1383  413  119.0   \n",
      "30  82    82  3016.0   888  ...   0.701  266.0   824.0  1090  319  101.0   \n",
      "31  62    62  2265.0   663  ...   0.783  186.0   615.0   801  269  103.0   \n",
      "32  80    80  3157.0   777  ...   0.736  207.0   818.0  1025  431   76.0   \n",
      "33  82    81  3143.0   835  ...   0.765  190.0   696.0   886  371   81.0   \n",
      "34  80    80  2976.0   836  ...   0.766  197.0   624.0   821  272   59.0   \n",
      "35  76    76  2677.0   753  ...   0.706  172.0   487.0   659  225   63.0   \n",
      "36  79    79  2554.0   722  ...   0.749  167.0   425.0   592  200   61.0   \n",
      "37  80    80  2622.0   716  ...   0.723  169.0   418.0   587  211   55.0   \n",
      "38  79    79  2630.0   723  ...   0.732  162.0   460.0   622  249   63.0   \n",
      "39  79    79  2629.0   755  ...   0.765  133.0   345.0   478  280   67.0   \n",
      "40  78    78  2441.0   560  ...   0.714  152.0   371.0   523  203   49.0   \n",
      "41  80    80  2308.0   480  ...   0.762  118.0   360.0   478  135   48.0   \n",
      "42  74    74  1695.0   313  ...   0.739  103.0   231.0   334   74   38.0   \n",
      "\n",
      "      BLK    TOV   PF   PTS  \n",
      "0    12.0   22.0   39   135  \n",
      "1    16.0   66.0  132   432  \n",
      "2     4.0   13.0   24    64  \n",
      "3    22.0   84.0  165   514  \n",
      "4    26.0   97.0  189   578  \n",
      "5     3.0   17.0   20    64  \n",
      "6    12.0   40.0  102   254  \n",
      "7     0.0    5.0    2     2  \n",
      "8    12.0   45.0  104   256  \n",
      "9     NaN    NaN   98   320  \n",
      "10    NaN    NaN   17    38  \n",
      "11    NaN    NaN  115   358  \n",
      "12    NaN    NaN  167   593  \n",
      "13    NaN    NaN  118   665  \n",
      "14    NaN    NaN  178   798  \n",
      "15    NaN    NaN  108   417  \n",
      "16  104.0    NaN  227   865  \n",
      "17   74.0    NaN  128   629  \n",
      "18   15.0    NaN   29    86  \n",
      "19    9.0    NaN   21    83  \n",
      "20    2.0    8.0   25    55  \n",
      "21    1.0    3.0    4     8  \n",
      "22    3.0   11.0   29    63  \n",
      "23    NaN    NaN  283  2361  \n",
      "24    NaN    NaN  264  2596  \n",
      "25    NaN    NaN  235  2822  \n",
      "26    NaN    NaN  208  2292  \n",
      "27  283.0    NaN  238  2191  \n",
      "28  212.0    NaN  205  1949  \n",
      "29  338.0    NaN  292  2275  \n",
      "30  261.0    NaN  262  2152  \n",
      "31  185.0  208.0  182  1600  \n",
      "32  316.0  282.0  230  1903  \n",
      "33  280.0  297.0  216  2034  \n",
      "34  228.0  249.0  244  2095  \n",
      "35  207.0  230.0  224  1818  \n",
      "36  170.0  200.0  220  1722  \n",
      "37  143.0  221.0  211  1717  \n",
      "38  162.0  197.0  238  1735  \n",
      "39  130.0  203.0  248  1846  \n",
      "40   97.0  186.0  245  1366  \n",
      "41   92.0  159.0  216  1165  \n",
      "42   85.0   95.0  196   748  \n",
      "\n",
      "[43 rows x 27 columns]\n"
     ]
    }
   ],
   "source": [
    "print(career_stats)"
   ]
  },
  {
   "cell_type": "code",
   "execution_count": 73,
   "id": "b62003d8-f524-4ece-a5e8-e70dc43cf445",
   "metadata": {
    "tags": []
   },
   "outputs": [],
   "source": [
    "# Export career stats\n",
    "\n",
    "career_stats.to_csv('career_stats.csv', index=False)"
   ]
  },
  {
   "cell_type": "markdown",
   "id": "48af697a-4870-43e5-9077-3e908527b6b7",
   "metadata": {},
   "source": [
    "## Use NBA API to get player bio info"
   ]
  },
  {
   "cell_type": "code",
   "execution_count": 31,
   "id": "e1865d26-900c-402e-81a2-d9c97a317f44",
   "metadata": {
    "tags": []
   },
   "outputs": [
    {
     "data": {
      "text/plain": [
       "2958"
      ]
     },
     "execution_count": 31,
     "metadata": {},
     "output_type": "execute_result"
    }
   ],
   "source": [
    "player_ids_1990_2023 = pd.read_excel('player_ids_1990_2023.xlsx')\n",
    "player_ids = player_ids_1990_2023['PLAYER_ID'].tolist()\n",
    "len(player_ids)"
   ]
  },
  {
   "cell_type": "code",
   "execution_count": 124,
   "id": "4e1cb1a8-fb85-4f97-99bb-3f6fe5d98fbc",
   "metadata": {
    "tags": []
   },
   "outputs": [],
   "source": [
    "from nba_api.stats.endpoints import commonplayerinfo\n",
    "\n",
    "player_info = pd.DataFrame(columns=['PERSON_ID', 'FIRST_NAME', 'LAST_NAME', 'DISPLAY_FIRST_LAST', 'DISPLAY_LAST_COMMA_FIRST', 'DISPLAY_FI_LAST', 'PLAYER_SLUG', 'BIRTHDATE', 'SCHOOL', 'COUNTRY', 'LAST_AFFILIATION', 'HEIGHT', 'WEIGHT', 'SEASON_EXP', 'JERSEY', 'POSITION', 'ROSTERSTATUS', 'TEAM_ID', 'TEAM_NAME', 'TEAM_ABBREVIATION', 'TEAM_CODE', 'TEAM_CITY', 'PLAYERCODE', 'FROM_YEAR', 'TO_YEAR', 'DLEAGUE_FLAG', 'NBA_FLAG', 'GAMES_PLAYED_FLAG', 'DRAFT_YEAR', 'DRAFT_ROUND', 'DRAFT_NUMBER'])\n",
    "\n",
    "count = 0\n",
    "data_frames_to_concat = []\n",
    "\n",
    "for player_id in player_ids[2901:2958]:\n",
    "    info = commonplayerinfo.CommonPlayerInfo(player_id, timeout=300)\n",
    "    new_rows = info.get_data_frames()[0]\n",
    "    data_frames_to_concat.append(new_rows)\n",
    "            \n",
    "# Concatenate all DataFrames outside the loop\n",
    "player_info = pd.concat(data_frames_to_concat, ignore_index=True)\n",
    "\n",
    "#Successfully got to 2000. Stopped here because API taking too long"
   ]
  },
  {
   "cell_type": "code",
   "execution_count": 125,
   "id": "fe3d817e-4575-4f76-b920-5a289e59c38f",
   "metadata": {
    "tags": []
   },
   "outputs": [],
   "source": [
    "player_info_combined = pd.concat([player_info_0_100, player_info_100_200, player_info_201_250, player_info_251_270, player_info_271_300, \n",
    "                                  player_info_301_330, player_info_331_360, player_info_361_390, player_info_391_420, player_info_421_450, player_info_451_480,\n",
    "                                 player_info_481_500, player_info_501_550, player_info_551_580, player_info_581_610, player_info_611_650, player_info_651_690, \n",
    "                                player_info_691_730, player_info_731_760, player_info_761_790, player_info_791_820, player_info_821_850, player_info_851_880, \n",
    "                                player_info_881_910, player_info_911_940, player_info_941_970, player_info_971_1000, player_info_1001_1050, player_info_1051_1100,\n",
    "                                player_info_1101_1150, player_info_1151_1200, player_info_1201_1250, player_info_1251_1300, player_info_1301_1350, player_info_1351_1400,\n",
    "                                player_info_1401_1450, player_info_1451_1500, player_info_1501_1550, player_info_1551_1600, player_info_1601_1650, player_info_1651_1700,\n",
    "                                player_info_1701_1750, player_info_1751_1800, player_info_1801_1850, player_info_1851_1900, player_info_1901_1950, player_info_1951_2000,\n",
    "                                player_info_2001_2100, player_info_2101_2200, player_info_2201_2300, player_info_2301_2400, player_info_2401_2500, player_info_2501_2600,\n",
    "                                player_info_2601_2700, player_info_2701_2800, player_info_2801_2900, player_info_2901_2958], \n",
    "                                axis=0, ignore_index=True)"
   ]
  },
  {
   "cell_type": "code",
   "execution_count": 127,
   "id": "3cf1e967-b61a-47f5-95c7-b1284c44ddbd",
   "metadata": {},
   "outputs": [],
   "source": [
    "# Export player info\n",
    "\n",
    "player_info_combined.to_csv('player_info_combined.csv', index=False)"
   ]
  },
  {
   "cell_type": "code",
   "execution_count": 68,
   "id": "1f3c43b6-da5d-4afd-bf2f-ce1b420edafb",
   "metadata": {
    "tags": []
   },
   "outputs": [
    {
     "name": "stdout",
     "output_type": "stream",
     "text": [
      "commonplayerinfo\t count\t csv\t data_frames_to_concat\t info\t nba_players\t nba_players_df\t nba_teams\t new_rows\t \n",
      "np\t pd\t player_id\t player_ids\t player_ids_1990_2023\t player_info\t player_info_0_100\t player_info_100_200\t player_info_201_250\t \n",
      "player_info_251_270\t player_info_271_300\t player_info_301_330\t player_info_331_360\t player_info_361_390\t player_info_391_420\t player_info_421_450\t player_info_451_480\t player_info_481_500\t \n",
      "player_info_501_550\t player_info_combined\t player_info_combined_0_550\t players\t requests\t teams\t values_of_first_keys\t \n"
     ]
    }
   ],
   "source": [
    "%who"
   ]
  },
  {
   "cell_type": "code",
   "execution_count": 126,
   "id": "9dc8ed60-4097-4191-9107-e92aa1d97988",
   "metadata": {
    "tags": []
   },
   "outputs": [
    {
     "name": "stdout",
     "output_type": "stream",
     "text": [
      "      PERSON_ID FIRST_NAME    LAST_NAME   DISPLAY_FIRST_LAST  \\\n",
      "0         76001       Alaa    Abdelnaby       Alaa Abdelnaby   \n",
      "1            51    Mahmoud   Abdul-Rauf   Mahmoud Abdul-Rauf   \n",
      "2          1505      Tariq  Abdul-Wahad    Tariq Abdul-Wahad   \n",
      "3           949    Shareef  Abdur-Rahim  Shareef Abdur-Rahim   \n",
      "4        203518       Alex      Abrines         Alex Abrines   \n",
      "...         ...        ...          ...                  ...   \n",
      "2898    1627757    Stephen    Zimmerman    Stephen Zimmerman   \n",
      "2899    1627835       Paul       Zipser          Paul Zipser   \n",
      "2900    1627790       Ante        Zizic           Ante Zizic   \n",
      "2901    1627826      Ivica        Zubac          Ivica Zubac   \n",
      "2902    1627826      Ivica        Zubac          Ivica Zubac   \n",
      "\n",
      "     DISPLAY_LAST_COMMA_FIRST DISPLAY_FI_LAST          PLAYER_SLUG  \\\n",
      "0             Abdelnaby, Alaa    A. Abdelnaby       alaa-abdelnaby   \n",
      "1         Abdul-Rauf, Mahmoud   M. Abdul-Rauf   mahmoud-abdul-rauf   \n",
      "2          Abdul-Wahad, Tariq  T. Abdul-Wahad    tariq-abdul-wahad   \n",
      "3        Abdur-Rahim, Shareef  S. Abdur-Rahim  shareef-abdur-rahim   \n",
      "4               Abrines, Alex      A. Abrines         alex-abrines   \n",
      "...                       ...             ...                  ...   \n",
      "2898       Zimmerman, Stephen    S. Zimmerman    stephen-zimmerman   \n",
      "2899             Zipser, Paul       P. Zipser          paul-zipser   \n",
      "2900              Zizic, Ante        A. Zizic           ante-zizic   \n",
      "2901             Zubac, Ivica        I. Zubac          ivica-zubac   \n",
      "2902             Zubac, Ivica        I. Zubac          ivica-zubac   \n",
      "\n",
      "                BIRTHDATE           SCHOOL  COUNTRY  ...  \\\n",
      "0     1968-06-24T00:00:00             Duke      USA  ...   \n",
      "1     1969-03-09T00:00:00  Louisiana State      USA  ...   \n",
      "2     1974-11-03T00:00:00   San Jose State   France  ...   \n",
      "3     1976-12-11T00:00:00       California      USA  ...   \n",
      "4     1993-08-01T00:00:00     FC Barcelona    Spain  ...   \n",
      "...                   ...              ...      ...  ...   \n",
      "2898  1996-09-09T00:00:00             UNLV      USA  ...   \n",
      "2899  1994-02-18T00:00:00    Bayern Munich  Germany  ...   \n",
      "2900  1997-01-04T00:00:00      Darussafaka  Croatia  ...   \n",
      "2901  1997-03-18T00:00:00      Mega Basket  Croatia  ...   \n",
      "2902  1997-03-18T00:00:00      Mega Basket  Croatia  ...   \n",
      "\n",
      "                  PLAYERCODE FROM_YEAR TO_YEAR  DLEAGUE_FLAG NBA_FLAG  \\\n",
      "0     HISTADD_alaa_abdelnaby      1990    1994             N        Y   \n",
      "1         mahmoud_abdul-rauf      1990    2000             N        Y   \n",
      "2          tariq_abdul-wahad      1997    2003             N        Y   \n",
      "3        shareef_abdur-rahim      1996    2007             N        Y   \n",
      "4               alex_abrines      2016    2018             N        Y   \n",
      "...                      ...       ...     ...           ...      ...   \n",
      "2898       stephen_zimmerman      2016    2016             Y        Y   \n",
      "2899             paul_zipser      2016    2017             Y        Y   \n",
      "2900              ante_zizic      2017    2019             Y        Y   \n",
      "2901             ivica_zubac      2016    2023             Y        Y   \n",
      "2902             ivica_zubac      2016    2023             Y        Y   \n",
      "\n",
      "     GAMES_PLAYED_FLAG DRAFT_YEAR DRAFT_ROUND  DRAFT_NUMBER GREATEST_75_FLAG  \n",
      "0                    Y       1990           1            25                N  \n",
      "1                    Y       1990           1             3                N  \n",
      "2                    Y       1997           1            11                N  \n",
      "3                    Y       1996           1             3                N  \n",
      "4                    Y       2013           2            32                N  \n",
      "...                ...        ...         ...           ...              ...  \n",
      "2898                 Y       2016           2            41                N  \n",
      "2899                 Y       2016           2            48                N  \n",
      "2900                 Y       2016           1            23                N  \n",
      "2901                 Y       2016           2            32                N  \n",
      "2902                 Y       2016           2            32                N  \n",
      "\n",
      "[2903 rows x 33 columns]\n"
     ]
    }
   ],
   "source": [
    "print(player_info_combined)"
   ]
  },
  {
   "cell_type": "code",
   "execution_count": null,
   "id": "f9bad4c5-c56e-4532-9329-a70b0898ee8d",
   "metadata": {},
   "outputs": [],
   "source": []
  }
 ],
 "metadata": {
  "kernelspec": {
   "display_name": "Python 3 (ipykernel)",
   "language": "python",
   "name": "python3"
  },
  "language_info": {
   "codemirror_mode": {
    "name": "ipython",
    "version": 3
   },
   "file_extension": ".py",
   "mimetype": "text/x-python",
   "name": "python",
   "nbconvert_exporter": "python",
   "pygments_lexer": "ipython3",
   "version": "3.11.4"
  }
 },
 "nbformat": 4,
 "nbformat_minor": 5
}
