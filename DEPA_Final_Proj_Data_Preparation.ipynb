{
 "cells": [
  {
   "cell_type": "markdown",
   "id": "4e7daf91-baf0-41cc-be3d-4ccd5f4ea62b",
   "metadata": {},
   "source": [
    "# DEPA Final Project Data Transformation/Preparation for Database\n",
    "## William DeForest"
   ]
  },
  {
   "cell_type": "code",
   "execution_count": 230,
   "id": "3b719273-d5da-4fde-8b9c-4d16a239c0ba",
   "metadata": {
    "tags": []
   },
   "outputs": [],
   "source": [
    "# Import packages\n",
    "\n",
    "import requests\n",
    "import pandas as pd\n",
    "import numpy as np\n",
    "import csv"
   ]
  },
  {
   "cell_type": "code",
   "execution_count": 231,
   "id": "88121208-898a-4ed8-a730-c79b343b1520",
   "metadata": {
    "tags": []
   },
   "outputs": [],
   "source": [
    "# Import data\n",
    "\n",
    "teams = pd.read_csv(r\"C:\\Users\\wdd72\\OneDrive\\Documents\\UChicago\\Fall '23\\Engineering Platforms\\Final Project\\nba_teams.csv\")\n",
    "players = pd.read_csv(r\"C:\\Users\\wdd72\\OneDrive\\Documents\\UChicago\\Fall '23\\Engineering Platforms\\Final Project\\nba_players.csv\")\n",
    "player_info = pd.read_csv(r\"C:\\Users\\wdd72\\OneDrive\\Documents\\UChicago\\Fall '23\\Engineering Platforms\\Final Project\\player_info_combined.csv\")\n",
    "player_stats = pd.read_csv(r\"C:\\Users\\wdd72\\OneDrive\\Documents\\UChicago\\Fall '23\\Engineering Platforms\\Final Project\\career_stats.csv\")\n",
    "player_salaries = pd.read_csv(r\"C:\\Users\\wdd72\\OneDrive\\Documents\\UChicago\\Fall '23\\Engineering Platforms\\Final Project\\combined_salaries.csv\", encoding=\"ISO-8859-1\")\n",
    "team_revenue = pd.read_csv(r\"C:\\Users\\wdd72\\OneDrive\\Documents\\UChicago\\Fall '23\\Engineering Platforms\\Final Project\\team_revenue.csv\")\n",
    "team_operating_income = pd.read_csv(r\"C:\\Users\\wdd72\\OneDrive\\Documents\\UChicago\\Fall '23\\Engineering Platforms\\Final Project\\team_operating_income.csv\")\n",
    "team_ticket_revenue = pd.read_csv(r\"C:\\Users\\wdd72\\OneDrive\\Documents\\UChicago\\Fall '23\\Engineering Platforms\\Final Project\\team_ticket_revenue.csv\")"
   ]
  },
  {
   "cell_type": "code",
   "execution_count": 232,
   "id": "ca39e101-f0a2-43d5-b0a5-21b252a55d8f",
   "metadata": {
    "tags": []
   },
   "outputs": [],
   "source": [
    "# Change team_revenue, team_operating_income and team_ticket_revenue to narrow format\n",
    "\n",
    "# Melt the DataFrame to convert from wide to narrow format\n",
    "team_revenue_narrow = pd.melt(team_revenue, id_vars=['TEAM_NAME'], var_name='SEASON', value_name='TEAM_REVENUE')\n",
    "\n",
    "\n",
    "# Melt the DataFrame to convert from wide to narrow format\n",
    "team_operating_income_narrow = pd.melt(team_operating_income, id_vars=['TEAM_NAME'], var_name='SEASON', value_name='TEAM_OPERATING_INCOME')\n",
    "\n",
    "\n",
    "# Melt the DataFrame to convert from wide to narrow format\n",
    "team_ticket_revenue_narrow = pd.melt(team_ticket_revenue, id_vars=['TEAM_NAME'], var_name='SEASON', value_name='TEAM_TICKET_REVENUE')\n"
   ]
  },
  {
   "cell_type": "code",
   "execution_count": 233,
   "id": "b07e17e7-f2f2-4407-b770-a1cc7cdb5d70",
   "metadata": {
    "tags": []
   },
   "outputs": [
    {
     "name": "stdout",
     "output_type": "stream",
     "text": [
      "    SEASON  TEAM_REVENUE  TEAM_TICKET_REVENUE  TEAM_OPERATING_INCOME  \\\n",
      "0     2011           109                 26.3                    -15   \n",
      "1     2012            99                 20.1                    -19   \n",
      "2     2013           119                 23.6                     -4   \n",
      "3     2014           133                 22.9                     15   \n",
      "4     2015           142                 27.8                      7   \n",
      "..     ...           ...                  ...                    ...   \n",
      "295   2016           155                 34.8                      7   \n",
      "296   2017           222                 55.1                     21   \n",
      "297   2018           255                 56.8                     34   \n",
      "298   2019           269                 60.9                     55   \n",
      "299   2020           231                 42.6                     39   \n",
      "\n",
      "     FINANCIAL_ID     TEAM_ID  \n",
      "0               1  1610612737  \n",
      "1              31  1610612737  \n",
      "2              61  1610612737  \n",
      "3              91  1610612737  \n",
      "4             121  1610612737  \n",
      "..            ...         ...  \n",
      "295           180  1610612764  \n",
      "296           210  1610612764  \n",
      "297           240  1610612764  \n",
      "298           270  1610612764  \n",
      "299           300  1610612764  \n",
      "\n",
      "[300 rows x 6 columns]\n"
     ]
    }
   ],
   "source": [
    "# Merge team financials tables\n",
    "\n",
    "team_revenues = pd.merge(team_revenue_narrow, team_ticket_revenue_narrow, on=['TEAM_NAME', 'SEASON'])\n",
    "\n",
    "team_financials = pd.merge(team_revenues, team_operating_income_narrow, on=['TEAM_NAME', 'SEASON'])\n",
    "\n",
    "# Add a FINANCIALS_ID column\n",
    "\n",
    "team_financials['FINANCIAL_ID'] = range(1, len(team_financials) + 1)\n",
    "\n",
    "# Add the TEAM_ID column from teams table\n",
    "\n",
    "team_financials = pd.merge(team_financials, teams[['id', 'full_name']], left_on=['TEAM_NAME'], right_on=['full_name'])\n",
    "team_financials = team_financials.drop(['full_name'], axis=1)\n",
    "team_financials = team_financials.drop(['TEAM_NAME'], axis=1)\n",
    "team_financials = team_financials.rename(columns={'id': 'TEAM_ID'})\n",
    "print(team_financials)"
   ]
  },
  {
   "cell_type": "code",
   "execution_count": 234,
   "id": "9977505f-8bd1-46d5-bd81-df5c89e73840",
   "metadata": {
    "tags": []
   },
   "outputs": [],
   "source": [
    "# Join PLAYER_ID column from player_info table to player_salaries table by name=display_First_last\n",
    "\n",
    "player_salaries = pd.merge(player_salaries, player_info[['PERSON_ID', 'DISPLAY_FIRST_LAST']], left_on=['Name'], right_on=['DISPLAY_FIRST_LAST'])\n",
    "\n",
    "# Lose 1,063 salary obs. (out of 15,747) on merge. Most likely due to different name spellings."
   ]
  },
  {
   "cell_type": "code",
   "execution_count": 235,
   "id": "54da4fab-79ba-4dae-af34-e83a19fa8668",
   "metadata": {
    "tags": []
   },
   "outputs": [],
   "source": [
    "player_salaries = player_salaries.rename(columns={'PLAYER_SEASON_SALARY_ID': 'SALARY_ID'})\n",
    "player_salaries = player_salaries.rename(columns={'PERSON_ID': 'PLAYER_ID'})\n",
    "player_salaries = player_salaries.drop(['DISPLAY_FIRST_LAST'], axis=1)"
   ]
  },
  {
   "cell_type": "code",
   "execution_count": 236,
   "id": "6c01c697-f6a4-4ab3-86c5-59216dfe6588",
   "metadata": {
    "tags": []
   },
   "outputs": [],
   "source": [
    "# Change the format of SEASON_ID column in player_stats to have just the first four digits\n",
    "\n",
    "# Extract the first four digits from the 'SEASON_ID' column\n",
    "player_stats['SEASON'] = player_stats['SEASON_ID'].str.slice(0, 4)\n",
    "player_stats = player_stats.drop(['SEASON_ID'], axis=1)\n",
    "player_stats['SEASON'] = player_stats['SEASON'].astype(int)"
   ]
  },
  {
   "cell_type": "code",
   "execution_count": 237,
   "id": "5769d49b-e070-40cb-a1b7-8efb950a61b2",
   "metadata": {
    "tags": []
   },
   "outputs": [],
   "source": [
    "# Rename PLAYER_SEASON_ID to STATS_ID\n",
    "\n",
    "player_stats = player_stats.rename(columns={'PLAYER_SEASON_ID': 'STATS_ID'})"
   ]
  },
  {
   "cell_type": "code",
   "execution_count": 238,
   "id": "b971fd43-ff8c-46b9-97a0-2be52be3fb26",
   "metadata": {
    "tags": []
   },
   "outputs": [],
   "source": [
    "# Rename PERSON_ID to PLAYER_ID and drop unnecessary columns\n",
    "\n",
    "player_info = player_info.rename(columns={'PERSON_ID': 'PLAYER_ID'})\n",
    "player_info = player_info.drop(['PLAYER_SLUG'], axis=1)\n",
    "player_info = player_info.drop(['DISPLAY_FI_LAST'], axis=1)\n",
    "player_info = player_info.drop(['DISPLAY_LAST_COMMA_FIRST'], axis=1)\n",
    "player_info = player_info.drop(['FIRST_NAME'], axis=1)\n",
    "player_info = player_info.drop(['LAST_NAME'], axis=1)\n",
    "player_info = player_info.drop(['DISPLAY_FIRST_LAST'], axis=1)\n",
    "\n",
    "# Create a DEMOGRAPHIC_ID column to be a PK\n",
    "player_info['DEMOGRAPHIC_ID'] = range(1, len(player_info) + 1)"
   ]
  },
  {
   "cell_type": "code",
   "execution_count": 239,
   "id": "0d97b0e9-e69f-4cc4-91a5-2192416b3a40",
   "metadata": {
    "tags": []
   },
   "outputs": [],
   "source": [
    "# Rename players table columns\n",
    "\n",
    "players = players.rename(columns={'id': 'PLAYER_ID'})\n",
    "players = players.rename(columns={'full_name': 'FULL_NAME'})\n",
    "players = players.rename(columns={'first_name': 'FIRST_NAME'})\n",
    "players = players.rename(columns={'last_name': 'LAST_NAME'})\n",
    "players = players.rename(columns={'is_active': 'IS_ACTIVE'})"
   ]
  },
  {
   "cell_type": "code",
   "execution_count": 240,
   "id": "e89b5caa-9447-4862-9636-e7be8184067e",
   "metadata": {
    "tags": []
   },
   "outputs": [],
   "source": [
    "# Join TEAM_ID column from player_info table to players table\n",
    "\n",
    "players = pd.merge(players, player_info[['PLAYER_ID', 'TEAM_ID']], on=['PLAYER_ID'], how='left')"
   ]
  },
  {
   "cell_type": "code",
   "execution_count": 241,
   "id": "97b71c8c-181b-40ef-b023-eca9c797cad9",
   "metadata": {
    "tags": []
   },
   "outputs": [],
   "source": [
    "# Rename teams table columns\n",
    "\n",
    "teams = teams.rename(columns={'id': 'TEAM_ID'})\n",
    "teams = teams.rename(columns={'full_name': 'TEAM_NAME'})\n",
    "teams = teams.rename(columns={'abbreviation': 'ABR'})\n",
    "teams = teams.rename(columns={'nickname': 'NICKNAME'})\n",
    "teams = teams.rename(columns={'city': 'CITY'})\n",
    "teams = teams.rename(columns={'state': 'STATE'})\n",
    "teams = teams.rename(columns={'year_founded': 'YEAR_FOUNDED'})"
   ]
  },
  {
   "cell_type": "markdown",
   "id": "c5af3b37-e87b-44b4-96d4-5b238c0dde5e",
   "metadata": {
    "tags": []
   },
   "source": [
    "## Export prepared datasets"
   ]
  },
  {
   "cell_type": "code",
   "execution_count": 242,
   "id": "31b022f9-764c-4e70-8eb3-a2e2ecbdba68",
   "metadata": {
    "tags": []
   },
   "outputs": [],
   "source": [
    "# Export team to csv\n",
    "\n",
    "teams.to_csv('team.csv', index=False)"
   ]
  },
  {
   "cell_type": "code",
   "execution_count": 243,
   "id": "6fb02d68-e76c-4fa3-b258-a1884ff3a6fc",
   "metadata": {
    "tags": []
   },
   "outputs": [],
   "source": [
    "# Export players to csv\n",
    "\n",
    "players.to_csv('player.csv', index=False)"
   ]
  },
  {
   "cell_type": "code",
   "execution_count": 244,
   "id": "a0663fb0-e092-4282-b45d-2f90ab781d52",
   "metadata": {
    "tags": []
   },
   "outputs": [],
   "source": [
    "# Export player_demographics to csv\n",
    "\n",
    "player_info.to_csv('demographic.csv', index=False)"
   ]
  },
  {
   "cell_type": "code",
   "execution_count": 248,
   "id": "9bcd54c0-e684-46e6-a204-6fb5acb7b411",
   "metadata": {
    "tags": []
   },
   "outputs": [],
   "source": [
    "# Export stats to csv\n",
    "\n",
    "player_stats.to_csv('stats.csv', index=False)"
   ]
  },
  {
   "cell_type": "code",
   "execution_count": 246,
   "id": "74a4f23f-cda9-45fd-99a1-aefa68aa090a",
   "metadata": {
    "tags": []
   },
   "outputs": [],
   "source": [
    "# Export player_salaries to csv\n",
    "\n",
    "player_salaries.to_csv('salary.csv', index=False)"
   ]
  },
  {
   "cell_type": "code",
   "execution_count": 247,
   "id": "c5243d62-94e3-4ea8-8edd-a1cd673a368c",
   "metadata": {
    "tags": []
   },
   "outputs": [],
   "source": [
    "# Export team_financials to csv\n",
    "\n",
    "team_financials.to_csv('financial.csv', index=False)"
   ]
  },
  {
   "cell_type": "code",
   "execution_count": 249,
   "id": "48b4c2e4-e169-4381-a88b-13d43bcb59ce",
   "metadata": {
    "tags": []
   },
   "outputs": [
    {
     "data": {
      "text/plain": [
       "PLAYER_ID                             int64\n",
       "BIRTHDATE                            object\n",
       "SCHOOL                               object\n",
       "COUNTRY                              object\n",
       "LAST_AFFILIATION                     object\n",
       "HEIGHT                               object\n",
       "WEIGHT                              float64\n",
       "SEASON_EXP                            int64\n",
       "JERSEY                               object\n",
       "POSITION                             object\n",
       "ROSTERSTATUS                         object\n",
       "GAMES_PLAYED_CURRENT_SEASON_FLAG     object\n",
       "TEAM_ID                               int64\n",
       "TEAM_NAME                            object\n",
       "TEAM_ABBREVIATION                    object\n",
       "TEAM_CODE                            object\n",
       "TEAM_CITY                            object\n",
       "PLAYERCODE                           object\n",
       "FROM_YEAR                             int64\n",
       "TO_YEAR                               int64\n",
       "DLEAGUE_FLAG                         object\n",
       "NBA_FLAG                             object\n",
       "GAMES_PLAYED_FLAG                    object\n",
       "DRAFT_YEAR                           object\n",
       "DRAFT_ROUND                          object\n",
       "DRAFT_NUMBER                         object\n",
       "GREATEST_75_FLAG                     object\n",
       "DEMOGRAPHIC_ID                        int64\n",
       "dtype: object"
      ]
     },
     "execution_count": 249,
     "metadata": {},
     "output_type": "execute_result"
    }
   ],
   "source": [
    "player_info.dtypes"
   ]
  },
  {
   "cell_type": "code",
   "execution_count": null,
   "id": "be887c72-a353-459f-9a0d-ba5d5367e246",
   "metadata": {},
   "outputs": [],
   "source": []
  },
  {
   "cell_type": "code",
   "execution_count": null,
   "id": "f712659d-8d4f-45b0-8ebb-6f9e7f5c5114",
   "metadata": {},
   "outputs": [],
   "source": []
  }
 ],
 "metadata": {
  "kernelspec": {
   "display_name": "Python 3 (ipykernel)",
   "language": "python",
   "name": "python3"
  },
  "language_info": {
   "codemirror_mode": {
    "name": "ipython",
    "version": 3
   },
   "file_extension": ".py",
   "mimetype": "text/x-python",
   "name": "python",
   "nbconvert_exporter": "python",
   "pygments_lexer": "ipython3",
   "version": "3.11.4"
  }
 },
 "nbformat": 4,
 "nbformat_minor": 5
}
